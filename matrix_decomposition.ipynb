{
 "cells": [
  {
   "cell_type": "markdown",
   "id": "68ce916b-1a29-4edf-8dd5-d98e99003556",
   "metadata": {},
   "source": [
    "# Matrix Decomposition"
   ]
  },
  {
   "cell_type": "code",
   "execution_count": 1,
   "id": "16ad128f-c669-4d68-b438-707af97985ee",
   "metadata": {},
   "outputs": [],
   "source": [
    "import numpy as np\n",
    "import scipy.linalg as sci_alg"
   ]
  },
  {
   "cell_type": "markdown",
   "id": "e75b50e7-cdc4-4bc8-8e4a-e1c349ec2f05",
   "metadata": {},
   "source": [
    "## LU Decomposition with Partial Pivoting"
   ]
  },
  {
   "cell_type": "code",
   "execution_count": 2,
   "id": "e805dac9-eb06-487d-b8a1-99191fce0021",
   "metadata": {},
   "outputs": [
    {
     "name": "stdout",
     "output_type": "stream",
     "text": [
      "[[1 2 3]\n",
      " [4 5 6]\n",
      " [7 8 9]] \n",
      "\n",
      "[[0. 1. 0.]\n",
      " [0. 0. 1.]\n",
      " [1. 0. 0.]] \n",
      "\n",
      "[[1.         0.         0.        ]\n",
      " [0.14285714 1.         0.        ]\n",
      " [0.57142857 0.5        1.        ]] \n",
      "\n",
      "[[ 7.00000000e+00  8.00000000e+00  9.00000000e+00]\n",
      " [ 0.00000000e+00  8.57142857e-01  1.71428571e+00]\n",
      " [ 0.00000000e+00  0.00000000e+00 -1.58603289e-16]] \n",
      "\n",
      "[[1. 2. 3.]\n",
      " [4. 5. 6.]\n",
      " [7. 8. 9.]]\n"
     ]
    }
   ],
   "source": [
    "# define a square matrix\n",
    "A = np.array([\n",
    "[1, 2, 3],\n",
    "[4, 5, 6],\n",
    "[7, 8, 9]])\n",
    "print(A, '\\n')\n",
    "\n",
    "# factorize\n",
    "P, L, U = sci_alg.lu(A)\n",
    "print(P, '\\n')\n",
    "print(L, '\\n')\n",
    "print(U, '\\n')\n",
    "\n",
    "# reconstruct\n",
    "B = P.dot(L).dot(U)\n",
    "print(B)"
   ]
  },
  {
   "cell_type": "markdown",
   "id": "8b4525c7-3188-46fa-a458-7bfe307b75f6",
   "metadata": {},
   "source": [
    "## QR Decomposition"
   ]
  },
  {
   "cell_type": "code",
   "execution_count": 3,
   "id": "7e00d717-440f-4a55-86b5-a399f54c2ea0",
   "metadata": {},
   "outputs": [
    {
     "name": "stdout",
     "output_type": "stream",
     "text": [
      "[[1 2]\n",
      " [3 4]\n",
      " [5 6]] \n",
      "\n",
      "[[-0.16903085  0.89708523  0.40824829]\n",
      " [-0.50709255  0.27602622 -0.81649658]\n",
      " [-0.84515425 -0.34503278  0.40824829]] \n",
      "\n",
      "[[-5.91607978 -7.43735744]\n",
      " [ 0.          0.82807867]\n",
      " [ 0.          0.        ]] \n",
      "\n",
      "[[1. 2.]\n",
      " [3. 4.]\n",
      " [5. 6.]]\n"
     ]
    }
   ],
   "source": [
    "# define rectangular matrix\n",
    "A = np.array([\n",
    "[1, 2],\n",
    "[3, 4],\n",
    "[5, 6]])\n",
    "print(A, '\\n')\n",
    "\n",
    "# factorize\n",
    "Q, R = np.linalg.qr(A, 'complete')\n",
    "print(Q, '\\n')\n",
    "print(R, '\\n')\n",
    "\n",
    "# reconstruct\n",
    "B = Q.dot(R)\n",
    "print(B)"
   ]
  },
  {
   "cell_type": "markdown",
   "id": "2f8b7e26-52dd-4dc3-9984-bc8708adfd60",
   "metadata": {},
   "source": [
    "## Cholesky Decomposition"
   ]
  },
  {
   "cell_type": "code",
   "execution_count": 4,
   "id": "724f6cf2-4279-4648-934a-bfeb78d342c7",
   "metadata": {},
   "outputs": [
    {
     "name": "stdout",
     "output_type": "stream",
     "text": [
      "[[2 1 1]\n",
      " [1 2 1]\n",
      " [1 1 2]]\n",
      "[[1.41421356 0.         0.        ]\n",
      " [0.70710678 1.22474487 0.        ]\n",
      " [0.70710678 0.40824829 1.15470054]]\n"
     ]
    }
   ],
   "source": [
    "# define symmetrical matrix\n",
    "A = np.array([\n",
    "[2, 1, 1],\n",
    "[1, 2, 1],\n",
    "[1, 1, 2]])\n",
    "print(A)\n",
    "\n",
    "# factorize\n",
    "L = np.linalg.cholesky(A)\n",
    "print(L)\n",
    "\n",
    "# reconstruct\n",
    "B = L.dot(L.T)"
   ]
  },
  {
   "cell_type": "code",
   "execution_count": null,
   "id": "a3a8f04b-b95c-4c35-8954-d685de9cb6d1",
   "metadata": {},
   "outputs": [],
   "source": []
  }
 ],
 "metadata": {
  "kernelspec": {
   "display_name": "Python 3 (ipykernel)",
   "language": "python",
   "name": "python3"
  },
  "language_info": {
   "codemirror_mode": {
    "name": "ipython",
    "version": 3
   },
   "file_extension": ".py",
   "mimetype": "text/x-python",
   "name": "python",
   "nbconvert_exporter": "python",
   "pygments_lexer": "ipython3",
   "version": "3.8.5"
  }
 },
 "nbformat": 4,
 "nbformat_minor": 5
}
